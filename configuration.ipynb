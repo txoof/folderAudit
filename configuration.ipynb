{
 "cells": [
  {
   "cell_type": "code",
   "execution_count": 1,
   "metadata": {},
   "outputs": [],
   "source": [
    "%alias nbconvert nbconvert configuration.ipynb"
   ]
  },
  {
   "cell_type": "code",
   "execution_count": 3,
   "metadata": {},
   "outputs": [
    {
     "name": "stdout",
     "output_type": "stream",
     "text": [
      "[NbConvertApp] Converting notebook configuration.ipynb to python\r\n"
     ]
    }
   ],
   "source": [
    "%nbconvert"
   ]
  },
  {
   "cell_type": "code",
   "execution_count": 1,
   "metadata": {},
   "outputs": [],
   "source": [
    "import logging\n",
    "import configparser\n",
    "from configparser import NoOptionError\n",
    "import os"
   ]
  },
  {
   "cell_type": "code",
   "execution_count": 6,
   "metadata": {},
   "outputs": [],
   "source": [
    "# borrowed from: https://www.blog.pythonlibrary.org/2013/10/25/python-101-an-intro-to-configparser/\n",
    "def create_config(path, configuration):\n",
    "    '''\n",
    "    create a configuration file at <path>\n",
    "    Accepts:\n",
    "        configuration in the format {'SectionName': {'key1':'value', 'key2':'value'}, 'OtherSection' {'opt1':'value', 'opt2':'Value'}}\n",
    "    \n",
    "    Note: SafeConfigParser treats all values as string \n",
    "    '''\n",
    "    logger = logging.getLogger(__name__)\n",
    "    cfgfile = os.path.expanduser(path)\n",
    "    cfgpath = os.path.dirname(os.path.expanduser(path))\n",
    "        \n",
    "    if not os.path.exists(cfgpath):\n",
    "        logger.info('creating configuration path: {path}')\n",
    "        try:\n",
    "            os.makedirs(cfgpath)\n",
    "        except Exception as e:\n",
    "            logger.error(e)\n",
    "  \n",
    "    try:\n",
    "        logger.info('writing configuration file: {}'.format(cfgfile))\n",
    "#         with open(cfgfile, 'wb') as config_file:\n",
    "        with open(cfgfile, 'w') as config_file:\n",
    "            configuration.write(config_file)\n",
    "    except Exception as e:\n",
    "        logger.error(e)\n",
    "\n",
    "def get_config(path):\n",
    "    '''\n",
    "    fetch configuration as a configuration object\n",
    "    '''\n",
    "    logger = logging.getLogger(__name__)\n",
    "    cfgfile = os.path.expanduser(path)\n",
    "    cfgpath = os.path.dirname(os.path.expanduser(path))\n",
    "    config = configparser.SafeConfigParser()\n",
    "\n",
    "    if not os.path.isfile(cfgfile):\n",
    "        logger.warn('no configuration file found at: {}'.format(cfgfile))\n",
    "        logger.info('returning empty config object')\n",
    "        return config\n",
    "    else:\n",
    "        logger.debug('reading configuration file at: {}'.format(cfgfile))\n",
    "        config.read(path)\n",
    "        return config\n",
    "\n",
    "\n",
    "\n",
    "def get_setting(path, section, setting):\n",
    "    '''\n",
    "    get the requested from section\n",
    "    '''\n",
    "    logger = logging.getLogger(__name__)\n",
    "    cfgfile = os.path.expanduser(path)\n",
    "    config = get_config(path)\n",
    "    try:\n",
    "        value = config.get(section, setting)\n",
    "        return(value)\n",
    "    except NoOptionError as e:\n",
    "        logging.warn('option not found: {}'.format(setting))\n",
    "        return('')\n",
    "        \n",
    "\n",
    "# def update_setting(path, section, setting, value):\n",
    "#     '''\n",
    "#     update an option\n",
    "#     '''\n",
    "#     logger = logging.getLogger(__name__)\n",
    "#     config = get_config(config)\n",
    "#     config.set(section, setting, value)\n",
    "#     try:\n",
    "#         with open(path, 'wb') as config_file:\n",
    "#             config.write(config_file)\n",
    "#     except Exception as e:\n",
    "#         logging.error(e)"
   ]
  }
 ],
 "metadata": {
  "kernelspec": {
   "display_name": "Python 2",
   "language": "python",
   "name": "python2"
  },
  "language_info": {
   "codemirror_mode": {
    "name": "ipython",
    "version": 2
   },
   "file_extension": ".py",
   "mimetype": "text/x-python",
   "name": "python",
   "nbconvert_exporter": "python",
   "pygments_lexer": "ipython2",
   "version": "2.7.15"
  }
 },
 "nbformat": 4,
 "nbformat_minor": 2
}
