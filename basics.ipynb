{
 "cells": [
  {
   "cell_type": "code",
   "execution_count": 94,
   "metadata": {},
   "outputs": [
    {
     "name": "stdout",
     "output_type": "stream",
     "text": [
      "The autoreload extension is already loaded. To reload it, use:\n",
      "  %reload_ext autoreload\n"
     ]
    }
   ],
   "source": [
    "%load_ext autoreload\n",
    "%autoreload 2\n",
    "\n",
    "%alias nbconvert nbconvert basics.ipynb"
   ]
  },
  {
   "cell_type": "code",
   "execution_count": 96,
   "metadata": {},
   "outputs": [
    {
     "name": "stdout",
     "output_type": "stream",
     "text": [
      "[NbConvertApp] Converting notebook basics.ipynb to python\r\n"
     ]
    }
   ],
   "source": [
    "%nbconvert"
   ]
  },
  {
   "cell_type": "code",
   "execution_count": 75,
   "metadata": {},
   "outputs": [],
   "source": [
    "from pathlib import Path\n",
    "import logging\n",
    "import logging.config\n",
    "import configuration\n",
    "\n",
    "import os"
   ]
  },
  {
   "cell_type": "code",
   "execution_count": 40,
   "metadata": {},
   "outputs": [],
   "source": [
    "def resource_path(relative_path):\n",
    "    '''\n",
    "    Get the absolute path for a given relative path\n",
    "    '''\n",
    "    return Path('.').absolute() / Path(relative_path)"
   ]
  },
  {
   "cell_type": "code",
   "execution_count": 46,
   "metadata": {},
   "outputs": [],
   "source": [
    "def fileToList(inputfile, stripWhitespace=True):\n",
    "    '''\n",
    "    Creates a list from a text file and optionally strips out whitespace\n",
    "    this is useful for converting a text file into a list for printingd\n",
    "    '''\n",
    "    logger = logging.getLogger(__name__)\n",
    "    logger.debug('inputfile = {}'.format(inputfile))\n",
    "#     super elegant solution as seen below \n",
    "#     https://stackoverflow.com/questions/4842057/easiest-way-to-ignore-blank-lines-when-reading-a-file-in-python\n",
    "    try:\n",
    "        with open(inputfile, 'r') as fhandle:\n",
    "            if stripWhitespace:\n",
    "                lines = [_f for _f in (line.strip() for line in fhandle) if _f]\n",
    "            else:\n",
    "                lines = [line.strip() for line in fhandle]\n",
    "    except IOError as e:\n",
    "        logger.debug(e)\n",
    "    return(lines)"
   ]
  },
  {
   "cell_type": "code",
   "execution_count": 61,
   "metadata": {},
   "outputs": [],
   "source": [
    "def setup_logging(\n",
    "    default_config=None,\n",
    "    default_level=logging.INFO,\n",
    "    output_path='~/', \n",
    "    env_key='LOG_CFG'):\n",
    "    \"\"\"Setup logging configuration\n",
    "    borrowed from: https://fangpenlin.com/posts/2012/08/26/good-logging-practice-in-python/\n",
    "    uses logging configuration json file\n",
    "    \"\"\"\n",
    "    path = default_config\n",
    "    value = os.getenv(env_key, None)\n",
    "    config = None\n",
    "    if value:\n",
    "        path = value\n",
    "    if os.path.exists(path):\n",
    "        try:\n",
    "            with open(path, 'rt') as f:\n",
    "                config = json.load(f)\n",
    "        except Exception as e:\n",
    "            print('failed to read logging configuration')\n",
    "            return(None)\n",
    "\n",
    "        # set the specific path to store log files\n",
    "        if config:\n",
    "            if output_path:\n",
    "                for handler in config['handlers']:\n",
    "                    if 'filename' in config['handlers'][handler]:\n",
    "                        logFile = os.path.basename(config['handlers'][handler]['filename'])\n",
    "                        logPath = os.path.expanduser(output_path+'/')\n",
    "\n",
    "                        if not os.path.isdir(logPath):\n",
    "                            try:\n",
    "                                os.makedirs(logPath)\n",
    "                            except OSError as e:\n",
    "                                logging.error('failed to make log file directory: {}'.format(e))\n",
    "                                logging.error('using {} instead'.format(config['handlers'][handler]['filename']))\n",
    "                                break\n",
    "\n",
    "                        config['handlers'][handler]['filename'] = logPath+logFile\n",
    "\n",
    "\n",
    "            logging.config.dictConfig(config)\n",
    "            logging.getLogger().setLevel(default_level)\n",
    "            return(config)\n",
    "        else:\n",
    "            return(None)\n",
    "\n",
    "    else:\n",
    "        logging.basicConfig(level=default_level)\n",
    "        return(None)"
   ]
  },
  {
   "cell_type": "code",
   "execution_count": 90,
   "metadata": {},
   "outputs": [],
   "source": [
    "def getConfiguration(cfgfile=None, config_required={'Main': {'key1': 'value1', 'key2': 'value2'}}):\n",
    "    '''\n",
    "    read an ini configuration file and return a dictionary of key/value pairs\n",
    "    update configuration file if missing any sections\n",
    "    accepts: \n",
    "        cfgfile - path to configuration file\n",
    "        config_required - nested dictionary in the following format:\n",
    "        {'Section1':\n",
    "            {'key1': 'value1', 'key2': 'value2'},\n",
    "            \n",
    "         'Section 2':\n",
    "            {'key1': 'value1'}\n",
    "        }\n",
    "    '''\n",
    "    if not cfgfile:\n",
    "        raise ValueError('no configuration file specified')\n",
    "    # required configuraiton options\n",
    "    # Section: {'option': 'default value'}\n",
    "    logger = logging.getLogger(__name__)\n",
    "    logger.debug('getting configuration from file: {}'.format(cfgfile))\n",
    "    cfgpath = os.path.dirname(cfgfile)\n",
    "#     config_required = {\n",
    "#         'Main': {'credentials': os.path.join(cfgpath, 'credentials/'), \n",
    "#                  },\n",
    "#         }\n",
    "\n",
    "    config = configuration.get_config(cfgfile)\n",
    "\n",
    "    update_config = False\n",
    "\n",
    "    logger.debug('checking sections')\n",
    "    for section, values in list(config_required.items()):\n",
    "        if not config.has_section(section):\n",
    "            logger.warning('section: {} not found in {}'.format(section, cfgfile))\n",
    "            logger.debug('adding section {}'.format(section))\n",
    "            config.add_section(section)\n",
    "            update_config = True\n",
    "        for option, value in list(values.items()):\n",
    "            if not config.has_option(section, option):\n",
    "                logger.warning('option: {} not found in {}'.format(option, cfgfile))\n",
    "                logger.debug('adding option {}: {}'.format(option, value))\n",
    "\n",
    "                config.set(section, option, value)\n",
    "                update_config = True\n",
    "\n",
    "\n",
    "    # for section, options in config_required.items():\n",
    "\n",
    "    if update_config:\n",
    "        try:\n",
    "            logger.debug('updating configuration file at: {}'.format(cfgfile))\n",
    "            configuration.create_config(cfgfile, config)\n",
    "        except Exception as e:\n",
    "            logger.error(e)\n",
    "            \n",
    "    return(config)"
   ]
  }
 ],
 "metadata": {
  "kernelspec": {
   "display_name": "folderAudit-FJk3azd9",
   "language": "python",
   "name": "folderaudit-fjk3azd9"
  },
  "language_info": {
   "codemirror_mode": {
    "name": "ipython",
    "version": 3
   },
   "file_extension": ".py",
   "mimetype": "text/x-python",
   "name": "python",
   "nbconvert_exporter": "python",
   "pygments_lexer": "ipython3",
   "version": "3.7.3"
  }
 },
 "nbformat": 4,
 "nbformat_minor": 2
}
