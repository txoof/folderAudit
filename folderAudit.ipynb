{
 "cells": [
  {
   "cell_type": "code",
   "execution_count": 3,
   "metadata": {},
   "outputs": [
    {
     "name": "stdout",
     "output_type": "stream",
     "text": [
      "The autoreload extension is already loaded. To reload it, use:\n",
      "  %reload_ext autoreload\n"
     ]
    }
   ],
   "source": [
    "%load_ext autoreload\n",
    "%autoreload 2\n",
    "\n",
    "%alias nbconvert nbconvert folderAudit.ipynb"
   ]
  },
  {
   "cell_type": "code",
   "execution_count": 17,
   "metadata": {},
   "outputs": [
    {
     "name": "stdout",
     "output_type": "stream",
     "text": [
      "[NbConvertApp] Converting notebook folderAudit.ipynb to python\r\n"
     ]
    }
   ],
   "source": [
    "%nbconvert"
   ]
  },
  {
   "cell_type": "code",
   "execution_count": 4,
   "metadata": {},
   "outputs": [],
   "source": [
    "import csv\n",
    "import os\n",
    "import sys\n",
    "import logging\n",
    "import logging.config\n",
    "import configuration\n",
    "import textwrap\n",
    "import csv\n",
    "import re\n",
    "import datetime\n",
    "from humanfriendly import prompts\n",
    "\n",
    "from googleapiclient import http\n",
    "from pathlib import Path\n",
    "from gdrive.auth import getCredentials\n",
    "from gdrive.gdrive import googledrive, GDriveError"
   ]
  },
  {
   "cell_type": "code",
   "execution_count": 5,
   "metadata": {},
   "outputs": [],
   "source": [
    "def resource_path(relative_path):\n",
    "    \"\"\" Get absolute path to resource, works for ide and for PyInstaller \"\"\"\n",
    "    try:\n",
    "        # PyInstaller creates a temp folder and stores path in _MEIPASS\n",
    "        base_path = sys._MEIPASS\n",
    "    except Exception:\n",
    "        base_path = os.path.abspath(\".\")\n",
    "\n",
    "    return os.path.join(base_path, relative_path)"
   ]
  },
  {
   "cell_type": "code",
   "execution_count": 6,
   "metadata": {},
   "outputs": [],
   "source": [
    "def fileToList(inputfile, stripWhitespace=True):\n",
    "    '''\n",
    "    Creates a list from a text file and optionally strips out whitespace\n",
    "    '''\n",
    "    logger = logging.getLogger(__name__)\n",
    "    logger.debug('inputfile = {}'.format(inputfile))\n",
    "#     super elegant solution as seen below \n",
    "#     https://stackoverflow.com/questions/4842057/easiest-way-to-ignore-blank-lines-when-reading-a-file-in-python\n",
    "    try:\n",
    "        with open(inputfile, 'r') as fhandle:\n",
    "            if stripWhitespace:\n",
    "                lines = [_f for _f in (line.strip() for line in fhandle) if _f]\n",
    "            else:\n",
    "                lines = [line.strip() for line in fhandle]\n",
    "    except IOError as e:\n",
    "        logger.debug(e)\n",
    "    return(lines)"
   ]
  },
  {
   "cell_type": "code",
   "execution_count": 7,
   "metadata": {},
   "outputs": [],
   "source": [
    "def setup_logging(\n",
    "    default_config=None,\n",
    "    default_level=logging.INFO,\n",
    "    output_path='~/', \n",
    "    env_key='LOG_CFG'):\n",
    "    \"\"\"Setup logging configuration\n",
    "    borrowed from: https://fangpenlin.com/posts/2012/08/26/good-logging-practice-in-python/\n",
    "\n",
    "    \"\"\"\n",
    "    path = default_config\n",
    "    value = os.getenv(env_key, None)\n",
    "    config = None\n",
    "    if value:\n",
    "        path = value\n",
    "    if os.path.exists(path):\n",
    "        try:\n",
    "            with open(path, 'rt') as f:\n",
    "                config = json.load(f)\n",
    "        except Exception as e:\n",
    "            print('failed to read logging configuration')\n",
    "            return(None)\n",
    "\n",
    "        # set the specific path to store log files\n",
    "        if config:\n",
    "            if output_path:\n",
    "                for handler in config['handlers']:\n",
    "                    if 'filename' in config['handlers'][handler]:\n",
    "                        logFile = os.path.basename(config['handlers'][handler]['filename'])\n",
    "                        logPath = os.path.expanduser(output_path+'/')\n",
    "\n",
    "                        if not os.path.isdir(logPath):\n",
    "                            try:\n",
    "                                os.makedirs(logPath)\n",
    "                            except OSError as e:\n",
    "                                logging.error('failed to make log file directory: {}'.format(e))\n",
    "                                logging.error('using {} instead'.format(config['handlers'][handler]['filename']))\n",
    "                                break\n",
    "\n",
    "                        config['handlers'][handler]['filename'] = logPath+logFile\n",
    "\n",
    "\n",
    "            logging.config.dictConfig(config)\n",
    "            logging.getLogger().setLevel(default_level)\n",
    "            return(config)\n",
    "        else:\n",
    "            return(None)\n",
    "\n",
    "    else:\n",
    "        logging.basicConfig(level=default_level)\n",
    "        return(None)"
   ]
  },
  {
   "cell_type": "code",
   "execution_count": 8,
   "metadata": {},
   "outputs": [],
   "source": [
    "def getConfiguration(cfgfile):\n",
    "    # required configuraiton options\n",
    "    # Section: {'option': 'default value'}\n",
    "    logger = logging.getLogger(__name__)\n",
    "    logger.debug('getting configuration from file: {}'.format(cfgfile))\n",
    "    cfgpath = os.path.dirname(cfgfile)\n",
    "    config_required = {\n",
    "        'Main': {'credentials': os.path.join(cfgpath, 'credentials/'), \n",
    "                 },\n",
    "        }\n",
    "\n",
    "    config = configuration.get_config(cfgfile)\n",
    "\n",
    "    update_config = False\n",
    "\n",
    "    logger.debug('checking sections')\n",
    "    for section, values in list(config_required.items()):\n",
    "        if not config.has_section(section):\n",
    "            logger.warning('section: {} not found in {}'.format(section, cfgfile))\n",
    "            logger.debug('adding section {}'.format(section))\n",
    "            config.add_section(section)\n",
    "            update_config = True\n",
    "        for option, value in list(values.items()):\n",
    "            if not config.has_option(section, option):\n",
    "                logger.warning('option: {} not found in {}'.format(option, cfgfile))\n",
    "                logger.debug('adding option {}: {}'.format(option, value))\n",
    "\n",
    "                config.set(section, option, value)\n",
    "                update_config = True\n",
    "\n",
    "\n",
    "    # for section, options in config_required.items():\n",
    "\n",
    "    if update_config:\n",
    "        try:\n",
    "            logger.debug('updating configuration file at: {}'.format(cfgfile))\n",
    "            configuration.create_config(cfgfile, config)\n",
    "        except Exception as e:\n",
    "            logger.error(e)\n",
    "            \n",
    "    return(config)"
   ]
  },
  {
   "cell_type": "code",
   "execution_count": 9,
   "metadata": {},
   "outputs": [],
   "source": [
    "def doExit(exit_level=0, testing=False):\n",
    "    logger = logging.getLogger(__name__)\n",
    "    logger.info('exiting before completion with exit code {}'.format(exit_level))\n",
    "    if not testing:\n",
    "        sys.exit(0)"
   ]
  },
  {
   "cell_type": "code",
   "execution_count": 10,
   "metadata": {},
   "outputs": [],
   "source": [
    "def recurseFolders(myDrive, parents=\"\", fieldNames='parents, id, name', fileList=[], skipped=[], depth=0):\n",
    "    if depth == 0:\n",
    "        fileList = []\n",
    "        skipped = []\n",
    "    print('depth: ', depth)\n",
    "    try:\n",
    "        result = myDrive.search(parents=parents, fields=fieldNames)\n",
    "    except GDriveError as e:\n",
    "        print(e)\n",
    "        skipped.append(parents)\n",
    "    for file in result['files']:\n",
    "        if file['mimeType'] == 'application/vnd.google-apps.folder':\n",
    "            returnVals = recurseFolders(myDrive=myDrive, parents=file['id'], fieldNames=fieldNames, fileList=fileList, \n",
    "                                        skipped=skipped, depth=depth+1)\n",
    "            fileList + returnVals[0]\n",
    "            skipped + returnVals[1]\n",
    "        else:\n",
    "            fileList.append(file)\n",
    "    \n",
    "    return(fileList, skipped)"
   ]
  },
  {
   "cell_type": "code",
   "execution_count": 11,
   "metadata": {},
   "outputs": [],
   "source": [
    "def auditFolder(myDrive=None, parents='', name='NO NAME FOLDER'):\n",
    "    date = datetime.date.today().strftime(\"%Y-%m-%d\")\n",
    "    outputFile = date+'_'+name+'_Ownership Audit.csv'\n",
    "    outputPath = Path.home()/'Desktop'/outputFile\n",
    "    skippedFile = date+name+'_Ownership Audit Skipped Folders.csv'\n",
    "    skippedPath = Path.home()/'Desktop'/skippedFile\n",
    "    fieldNames = ['webViewLink', 'owners', 'mimeType', 'name', 'size', 'modifiedTime', 'id']\n",
    "    \n",
    "    \n",
    "    logger = logging.getLogger(__name__)\n",
    "    logging.getLogger().setLevel(logging.WARNING)\n",
    "    \n",
    "    rawResult = recurseFolders(myDrive=myDrive, parents=parents, fieldNames=', '.join(fieldNames))\n",
    "    allFiles = []\n",
    "    \n",
    "    for file in rawResult[0]:\n",
    "        fileDict = {}\n",
    "        for field in fieldNames:\n",
    "            data = ''\n",
    "            if field == 'owners':\n",
    "                data = file[field][0]['emailAddress']\n",
    "            else:\n",
    "                if field in file:\n",
    "                    data = file[field]\n",
    "            fileDict[field] = data\n",
    "\n",
    "        allFiles.append(fileDict)\n",
    "\n",
    "    if allFiles:\n",
    "        with open(outputPath, 'w', newline='') as csvfile:\n",
    "    #         fieldnames = ['webViewLink', 'owners', 'mimeType', 'name', 'size']\n",
    "            writer = csv.DictWriter(csvfile, fieldnames=fieldNames)\n",
    "            writer.writeheader()\n",
    "            for file in allFiles:\n",
    "                writer.writerow(file)\n",
    "    else:\n",
    "        return None\n",
    "\n",
    "    # write out skipped folders\n",
    "    if rawResult[1]:\n",
    "        logger.warn('Some folders were not included in the audit. See: {}'.format(skippedPath))\n",
    "        with open(skippedPath, 'w') as skipped:\n",
    "            for each in rawResult[1]:\n",
    "                skipped.write(each+'\\n')\n",
    "                \n",
    "    return(outputPath)\n",
    "        \n"
   ]
  },
  {
   "cell_type": "code",
   "execution_count": 15,
   "metadata": {},
   "outputs": [],
   "source": [
    "def uploadSheet(myDrive, file):\n",
    "    # myDrive = googledrive('/Users/aciuffo/.config/folderAudit/credentials/credentials.json')\n",
    "    file = Path(file)\n",
    "    file_metadata = {\n",
    "        'name': file.name,\n",
    "        'mimeType': 'application/vnd.google-apps.spreadsheet'\n",
    "    }\n",
    "    media = http.MediaFileUpload(file,\n",
    "                            mimetype='text/csv',\n",
    "                            resumable=True)\n",
    "    file = myDrive.service.files().create(body=file_metadata,\n",
    "                                        media_body=media,\n",
    "                                        fields='id, webViewLink').execute()\n",
    "    if file:\n",
    "        print('File uploaded to: {}'.format(file.get('webViewLink')))\n",
    "    return(file)"
   ]
  },
  {
   "cell_type": "code",
   "execution_count": 13,
   "metadata": {},
   "outputs": [],
   "source": [
    "def main():\n",
    "    testing = True\n",
    "    version = '00.01 - 2019.05.28'\n",
    "    appName = 'folderAudit'\n",
    "    \n",
    "    cfgfile = appName+'.ini'\n",
    "    cfgpath = Path.home()/'.config'/appName\n",
    "    cfgfile = cfgpath/cfgfile\n",
    "\n",
    "    print('cfgpath', cfgpath)\n",
    "    \n",
    "    logger = logging.getLogger(__name__)\n",
    "    loggingConfig = resource_path('resources/logging.json')\n",
    "    setup_logging(default_config=loggingConfig, default_level=logging.ERROR, output_path='~/')\n",
    "    \n",
    "    \n",
    "    levelNames = ['DEBUG', 'INFO', 'WARNING']\n",
    "    \n",
    "    # configuration \n",
    "    myConfig = getConfiguration(cfgfile)    \n",
    "    updateConfig = False\n",
    "    \n",
    "    \n",
    "    # set the terminal size to 50x90 characters\n",
    "    print(\"\\x1b[8;50;90t\")    \n",
    "    \n",
    "    \n",
    "    # set up configuration\n",
    "    if myConfig.has_option('Main', 'credentials'):\n",
    "        credential_store = os.path.expanduser(myConfig.get('Main', 'credentials'))\n",
    "    else:\n",
    "        credential_store = os.path.expanduser(os.path.join(cfgpath, 'credentials'))\n",
    "        updateConfig = True\n",
    " \n",
    "    if myConfig.has_option('Main', 'useremail'):\n",
    "        useremail = myConfig.get('Main', 'useremail')\n",
    "    else:\n",
    "        useremail = None\n",
    "    \n",
    "    if myConfig.has_option('Main', 'loglevel'):\n",
    "        loglevel = myConfig.get('Main', 'loglevel')\n",
    "        if loglevel in levelNames:\n",
    "            logger.setLevel(loglevel)\n",
    "    else:\n",
    "        loglevel = 'ERROR'\n",
    "        logger.setLevel(loglevel)\n",
    "        myConfig.set('Main', 'loglevel', loglevel)\n",
    "        updateConfig = True\n",
    "\n",
    "    # print the configuration if the logging level is high enough\n",
    "    if logging.getLogger().getEffectiveLevel() <= 10:\n",
    "        config_dict = {}\n",
    "        for section in myConfig.sections():\n",
    "            config_dict[section] = {}\n",
    "            for option in myConfig.options(section):\n",
    "                config_dict[section][option] = myConfig.get(section, option)\n",
    "\n",
    "        logger.debug('current configuration:')\n",
    "        logger.debug('\\n{}'.format(config_dict))\n",
    "\n",
    "    about = resource_path('./resources/about.txt')\n",
    "    about_list = fileToList(about, False)\n",
    "    wrapper = textwrap.TextWrapper(replace_whitespace=True, drop_whitespace=True, width=65)\n",
    "    print(('{} - Version: {}'.format(appName, version)))\n",
    "    for line in about_list:\n",
    "        print(('\\n'.join(wrapper.wrap(text=line))))\n",
    "        \n",
    "    \n",
    "    logger.setLevel('DEBUG')\n",
    "        \n",
    "   # assume that the configuration is NOT ok and that user will want to reconfigure\n",
    "    proceed = True\n",
    "    # start with configuration settings from config file; if user chooses to reconfigure offer opportunity to change\n",
    "    reconfigure = True\n",
    "    \n",
    "    # check configuration and credentials for google drive\n",
    "    clientSecrets = resource_path('resources/client_secrets.json')\n",
    "    try:\n",
    "        credentials = getCredentials(storage_path=credential_store, client_secret=clientSecrets)\n",
    "    except Exception as e:\n",
    "        logging.critical(e)\n",
    "\n",
    "    # configure google drive object\n",
    "\n",
    "    try:\n",
    "        myDrive = googledrive(credentials)\n",
    "    except Exception as e:\n",
    "        logger.error('Could not set up google drive connection: {}'.format(e))\n",
    "        print('Could not setup google drive connection. Run this program again.')\n",
    "        print(('If this error persists, please check the logs: {}'.format(log_files)))\n",
    "        print('cannot continue')\n",
    "        doExit(testing=testing)\n",
    "\n",
    "    if not useremail:\n",
    "        logger.warning('No useremail set in configuration file')\n",
    "        try:\n",
    "            useremail = myDrive.userinfo['emailAddress']\n",
    "        except Exception as e:\n",
    "            logging.error('Error retreving useremail address from drive configuration')\n",
    "            print('Error fetching configuration information.')\n",
    "            print('Run the program again')\n",
    "            print(('If this error persists, please check the logs: {}'.format(log_files)))\n",
    "            doExit(testing=testing)\n",
    "        myConfig.set('Main', 'useremail', useremail)\n",
    "        updateConfig = True\n",
    "\n",
    "    if updateConfig:\n",
    "        configuration.create_config(cfgfile, myConfig)\n",
    "\n",
    "    while proceed:\n",
    "        folderURL = prompts.prompt_for_input('Paste full URL of Folder to Audit:\\n')\n",
    "        \n",
    "        folderName = None\n",
    "        folderID = None\n",
    "        \n",
    "        match = re.match('https:\\/\\/drive.google.com(?:\\/.*)+\\/([a-zA-Z0-9-]+)\\W{0,}$', folderURL)\n",
    "        if not match:\n",
    "            print('Invlaid URL; try again')\n",
    "            continue\n",
    "        else:\n",
    "            folderID = match[1]\n",
    "            \n",
    "        try:\n",
    "            result = myDrive.getprops(fileId=folderID, fields=\"name, mimeType\")\n",
    "        except GDriveError as e:\n",
    "            logger.error('Trouble getting information for this folder. Try again.')\n",
    "            logger.error(e)\n",
    "            continue\n",
    "        \n",
    "        if not result['mimeType'] == myDrive.mimeTypes['folder']:\n",
    "            logger.error('This is is not a folder. Try again.')\n",
    "            continue\n",
    "        else:\n",
    "            print('Beginning audit of folder: {}'.format(result['name']))\n",
    "            outputFile = auditFolder(myDrive=myDrive, parents=folderID, name=result['name'])\n",
    "            if outputFile:\n",
    "                file = uploadSheet(myDrive, outputFile)\n",
    "            else:\n",
    "                print('The audit returned no results')\n",
    "                \n",
    "        \n",
    "        if not prompts.prompt_for_confirmation('Would you like to audit another folder?', False):\n",
    "            proceed = False\n",
    "            return(file)\n"
   ]
  },
  {
   "cell_type": "code",
   "execution_count": 14,
   "metadata": {},
   "outputs": [
    {
     "name": "stdout",
     "output_type": "stream",
     "text": [
      "cfgpath /Users/aciuffo/.config/folderAudit\n",
      "\u001b[8;50;90t\n",
      "folderAudit - Version: 00.01 - 2019.05.28\n",
      "Author: Aaron Ciuffo\n",
      "Contact: aaron.ciuffo@gmail.com\n",
      "\n",
      "\n",
      " Paste full URL of Folder to Audit:\n",
      " https://drive.google.com/drive/folders/1yMLfrdg47EzCdPb4d9VVZAK-hlJeILuW\n"
     ]
    },
    {
     "name": "stderr",
     "output_type": "stream",
     "text": [
      "\n"
     ]
    },
    {
     "name": "stdout",
     "output_type": "stream",
     "text": [
      "Beginning audit of folder: PS12 IT Department Projects\n",
      "depth:  0\n",
      "The audit returned no results\n",
      "\n",
      " Would you like to audit another folder? [y/N] https://drive.google.com/drive/folders/1yMLfrdg47EzCdPb4d9VVZAK-hlJeILuW\n"
     ]
    },
    {
     "name": "stderr",
     "output_type": "stream",
     "text": [
      "\n",
      " Error: Please enter 'yes' or 'no' (the text 'https://drive.google.com/drive/folders/1yMLfrdg47EzCdPb4d9VVZAK-hlJeILuW' is not recognized).\n"
     ]
    },
    {
     "name": "stdout",
     "output_type": "stream",
     "text": [
      "\n",
      " Would you like to audit another folder? [y/N] y\n"
     ]
    },
    {
     "name": "stderr",
     "output_type": "stream",
     "text": [
      "\n"
     ]
    },
    {
     "name": "stdout",
     "output_type": "stream",
     "text": [
      "\n",
      " Paste full URL of Folder to Audit:\n",
      " https://drive.google.com/drive/folders/1yMLfrdg47EzCdPb4d9VVZAK-hlJeILuW\n"
     ]
    },
    {
     "name": "stderr",
     "output_type": "stream",
     "text": [
      "\n"
     ]
    },
    {
     "name": "stdout",
     "output_type": "stream",
     "text": [
      "Beginning audit of folder: PS12 IT Department Projects\n",
      "depth:  0\n",
      "The audit returned no results\n",
      "\n",
      " Would you like to audit another folder? [y/N] y\n"
     ]
    },
    {
     "name": "stderr",
     "output_type": "stream",
     "text": [
      "\n"
     ]
    },
    {
     "name": "stdout",
     "output_type": "stream",
     "text": [
      "\n",
      " Paste full URL of Folder to Audit:\n",
      " https://drive.google.com/drive/folders/0B0fhA2czqfUhZXdnUkFhVllGbFU\n"
     ]
    },
    {
     "name": "stderr",
     "output_type": "stream",
     "text": [
      "\n"
     ]
    },
    {
     "name": "stdout",
     "output_type": "stream",
     "text": [
      "Beginning audit of folder: DreamBox\n",
      "depth:  0\n",
      "depth:  1\n",
      "depth:  1\n",
      "depth:  2\n",
      "depth:  3\n",
      "depth:  3\n",
      "depth:  1\n"
     ]
    },
    {
     "ename": "NameError",
     "evalue": "name 'fDrive' is not defined",
     "output_type": "error",
     "traceback": [
      "\u001b[0;31m---------------------------------------------------------------------------\u001b[0m",
      "\u001b[0;31mNameError\u001b[0m                                 Traceback (most recent call last)",
      "\u001b[0;32m<ipython-input-14-42eb9dc6803a>\u001b[0m in \u001b[0;36m<module>\u001b[0;34m\u001b[0m\n\u001b[1;32m      1\u001b[0m \u001b[0;32mif\u001b[0m \u001b[0m__name__\u001b[0m \u001b[0;34m==\u001b[0m \u001b[0;34m\"__main__\"\u001b[0m\u001b[0;34m:\u001b[0m\u001b[0;34m\u001b[0m\u001b[0;34m\u001b[0m\u001b[0m\n\u001b[0;32m----> 2\u001b[0;31m     \u001b[0mfile\u001b[0m \u001b[0;34m=\u001b[0m \u001b[0mmain\u001b[0m\u001b[0;34m(\u001b[0m\u001b[0;34m)\u001b[0m\u001b[0;34m\u001b[0m\u001b[0;34m\u001b[0m\u001b[0m\n\u001b[0m\u001b[1;32m      3\u001b[0m \u001b[0;34m\u001b[0m\u001b[0m\n",
      "\u001b[0;32m<ipython-input-13-5129ef533499>\u001b[0m in \u001b[0;36mmain\u001b[0;34m()\u001b[0m\n\u001b[1;32m    135\u001b[0m             \u001b[0moutputFile\u001b[0m \u001b[0;34m=\u001b[0m \u001b[0mauditFolder\u001b[0m\u001b[0;34m(\u001b[0m\u001b[0mmyDrive\u001b[0m\u001b[0;34m=\u001b[0m\u001b[0mmyDrive\u001b[0m\u001b[0;34m,\u001b[0m \u001b[0mparents\u001b[0m\u001b[0;34m=\u001b[0m\u001b[0mfolderID\u001b[0m\u001b[0;34m,\u001b[0m \u001b[0mname\u001b[0m\u001b[0;34m=\u001b[0m\u001b[0mresult\u001b[0m\u001b[0;34m[\u001b[0m\u001b[0;34m'name'\u001b[0m\u001b[0;34m]\u001b[0m\u001b[0;34m)\u001b[0m\u001b[0;34m\u001b[0m\u001b[0;34m\u001b[0m\u001b[0m\n\u001b[1;32m    136\u001b[0m             \u001b[0;32mif\u001b[0m \u001b[0moutputFile\u001b[0m\u001b[0;34m:\u001b[0m\u001b[0;34m\u001b[0m\u001b[0;34m\u001b[0m\u001b[0m\n\u001b[0;32m--> 137\u001b[0;31m                 \u001b[0mfile\u001b[0m \u001b[0;34m=\u001b[0m \u001b[0muploadSheet\u001b[0m\u001b[0;34m(\u001b[0m\u001b[0mmyDrive\u001b[0m\u001b[0;34m,\u001b[0m \u001b[0moutputFile\u001b[0m\u001b[0;34m)\u001b[0m\u001b[0;34m\u001b[0m\u001b[0;34m\u001b[0m\u001b[0m\n\u001b[0m\u001b[1;32m    138\u001b[0m             \u001b[0;32melse\u001b[0m\u001b[0;34m:\u001b[0m\u001b[0;34m\u001b[0m\u001b[0;34m\u001b[0m\u001b[0m\n\u001b[1;32m    139\u001b[0m                 \u001b[0mprint\u001b[0m\u001b[0;34m(\u001b[0m\u001b[0;34m'The audit returned no results'\u001b[0m\u001b[0;34m)\u001b[0m\u001b[0;34m\u001b[0m\u001b[0;34m\u001b[0m\u001b[0m\n",
      "\u001b[0;32m<ipython-input-12-86148f35fec3>\u001b[0m in \u001b[0;36muploadSheet\u001b[0;34m(myDrive, file)\u001b[0m\n\u001b[1;32m      9\u001b[0m                             \u001b[0mmimetype\u001b[0m\u001b[0;34m=\u001b[0m\u001b[0;34m'text/csv'\u001b[0m\u001b[0;34m,\u001b[0m\u001b[0;34m\u001b[0m\u001b[0;34m\u001b[0m\u001b[0m\n\u001b[1;32m     10\u001b[0m                             resumable=True)\n\u001b[0;32m---> 11\u001b[0;31m     file = fDrive.service.files().create(body=file_metadata,\n\u001b[0m\u001b[1;32m     12\u001b[0m                                         \u001b[0mmedia_body\u001b[0m\u001b[0;34m=\u001b[0m\u001b[0mmedia\u001b[0m\u001b[0;34m,\u001b[0m\u001b[0;34m\u001b[0m\u001b[0;34m\u001b[0m\u001b[0m\n\u001b[1;32m     13\u001b[0m                                         fields='id, webViewLink').execute()\n",
      "\u001b[0;31mNameError\u001b[0m: name 'fDrive' is not defined"
     ]
    }
   ],
   "source": [
    "if __name__ == \"__main__\":\n",
    "    file = main()\n",
    "    "
   ]
  }
 ],
 "metadata": {
  "kernelspec": {
   "display_name": "folderAudit-FJk3azd9",
   "language": "python",
   "name": "folderaudit-fjk3azd9"
  },
  "language_info": {
   "codemirror_mode": {
    "name": "ipython",
    "version": 3
   },
   "file_extension": ".py",
   "mimetype": "text/x-python",
   "name": "python",
   "nbconvert_exporter": "python",
   "pygments_lexer": "ipython3",
   "version": "3.7.3"
  }
 },
 "nbformat": 4,
 "nbformat_minor": 2
}
