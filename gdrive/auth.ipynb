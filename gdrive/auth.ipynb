{
 "cells": [
  {
   "cell_type": "code",
   "execution_count": 2,
   "metadata": {},
   "outputs": [],
   "source": [
    "%alias nbconvert nbconvert auth.ipynb"
   ]
  },
  {
   "cell_type": "code",
   "execution_count": 3,
   "metadata": {},
   "outputs": [
    {
     "name": "stdout",
     "output_type": "stream",
     "text": [
      "[NbConvertApp] Converting notebook auth.ipynb to python\r\n"
     ]
    }
   ],
   "source": [
    "%nbconvert"
   ]
  },
  {
   "cell_type": "code",
   "execution_count": 13,
   "metadata": {},
   "outputs": [],
   "source": [
    "import logging\n",
    "import os\n",
    "\n",
    "# import google_auth_oauthlib\n",
    "# import google_auth_httplib2\n",
    "\n",
    "\n",
    "from oauth2client import file, client, tools\n",
    "from oauth2client.file import Storage\n",
    "import httplib2\n",
    "\n",
    "def getCredentials(storage_path = os.path.expanduser('./'), \n",
    "                   client_secret = './client_secrets.json'):\n",
    "    '''\n",
    "    creates a google oath2 credential object\n",
    "    \n",
    "    getCredentials(storage_path, client_secret)\n",
    "    Accepts:\n",
    "        storage_path (string): path to cache credentials\n",
    "        client_secret (string): path to client_secrets.json\n",
    "        \n",
    "    Returns:\n",
    "        oauth2client.tools.run_flow() credential object\n",
    "    '''\n",
    "    \n",
    "    logger = logging.getLogger(__name__)\n",
    "    \n",
    "    # see https://developers.google.com/drive/api/v3/about-auth for complete list of scopes\n",
    "    scopes = 'https://www.googleapis.com/auth/drive' \n",
    "    \n",
    "    credential_dir = os.path.expanduser(storage_path)\n",
    "    credential_file = os.path.expanduser(os.path.join(credential_dir, 'credentials.json'))\n",
    "    flags = tools.argparser.parse_args([])\n",
    "\n",
    "    logger.debug('preparing google drive credentials')\n",
    "    \n",
    "    if not os.path.exists(client_secret):\n",
    "        logging.critical('fatal error - missing client secret file: {}'.format(client_secret))\n",
    "        logging.critical('obtain a client secret file at the path specified below')\n",
    "        logging.critical('filename: {}'.format(client_secret))\n",
    "        logging.critical('instructions: https://developers.google.com/drive/v3/web/quickstart/python')\n",
    "        \n",
    "    logging.debug('checking for credential store directory: {}'.format(credential_dir))\n",
    "    if not os.path.exists(credential_dir):\n",
    "        try:\n",
    "            os.makedirs(credential_dir)\n",
    "        except (IOError, OSError) as e:\n",
    "            logging.critical(e)\n",
    "    \n",
    "    store = Storage(credential_file)\n",
    "    creds = store.get()\n",
    "    \n",
    "    \n",
    "    if not creds or creds.invalid:\n",
    "        logging.debug('credential store not found or is invalid; refreshing')\n",
    "        flow = client.flow_from_clientsecrets(client_secret, scopes)\n",
    "        logging.debug('preparing to set store')\n",
    "        creds = tools.run_flow(flow, store, flags)\n",
    "    else:\n",
    "        logging.debug('credential store accepted')\n",
    "        \n",
    "    \n",
    "    return(creds)"
   ]
  }
 ],
 "metadata": {
  "kernelspec": {
   "display_name": "populateTeamDrive-ZO2x6IkY",
   "language": "python",
   "name": "populateteamdrive-zo2x6iky"
  },
  "language_info": {
   "codemirror_mode": {
    "name": "ipython",
    "version": 3
   },
   "file_extension": ".py",
   "mimetype": "text/x-python",
   "name": "python",
   "nbconvert_exporter": "python",
   "pygments_lexer": "ipython3",
   "version": "3.7.3"
  }
 },
 "nbformat": 4,
 "nbformat_minor": 2
}
